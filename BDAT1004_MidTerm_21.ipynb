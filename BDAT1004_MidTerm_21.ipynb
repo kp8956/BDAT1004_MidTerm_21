{
 "cells": [
  {
   "cell_type": "markdown",
   "id": "7d043888",
   "metadata": {},
   "source": [
    "# Que 21"
   ]
  },
  {
   "cell_type": "code",
   "execution_count": 8,
   "id": "94325550",
   "metadata": {},
   "outputs": [],
   "source": [
    "class Point:\n",
    "    def __init__(self, x=0, y=0):\n",
    "        self.x = x\n",
    "        self.y = y\n",
    "\n",
    "class Segment:\n",
    "    def __init__(self, p1, p2):\n",
    "        self.p1 = p1\n",
    "        self.p2 = p2\n",
    "\n",
    "    def length(self):\n",
    "        return ((self.p2.x - self.p1.x) ** 2 + (self.p2.y - self.p1.y) ** 2) ** 0.5\n",
    "\n",
    "    def slope(self):\n",
    "        if self.p2.x - self.p1.x == 0:\n",
    "            return None\n",
    "        return (self.p2.y - self.p1.y) / (self.p2.x - self.p1.x)\n",
    "\n",
    "\n",
    "\n",
    "\n"
   ]
  },
  {
   "cell_type": "code",
   "execution_count": 4,
   "id": "9144bd83",
   "metadata": {},
   "outputs": [],
   "source": [
    "p1 = Point(3, 4)\n",
    "p2 = Point()\n",
    "s = Segment(p1, p2)\n"
   ]
  },
  {
   "cell_type": "code",
   "execution_count": 5,
   "id": "63c975b2",
   "metadata": {},
   "outputs": [
    {
     "name": "stdout",
     "output_type": "stream",
     "text": [
      "Length: 5.0\n",
      "Slope: 1.3333333333333333\n"
     ]
    }
   ],
   "source": [
    "print(\"Length:\", s.length())\n",
    "print(\"Slope:\", s.slope())"
   ]
  },
  {
   "cell_type": "code",
   "execution_count": null,
   "id": "d13b2332",
   "metadata": {},
   "outputs": [],
   "source": []
  }
 ],
 "metadata": {
  "kernelspec": {
   "display_name": "Python 3 (ipykernel)",
   "language": "python",
   "name": "python3"
  },
  "language_info": {
   "codemirror_mode": {
    "name": "ipython",
    "version": 3
   },
   "file_extension": ".py",
   "mimetype": "text/x-python",
   "name": "python",
   "nbconvert_exporter": "python",
   "pygments_lexer": "ipython3",
   "version": "3.11.4"
  }
 },
 "nbformat": 4,
 "nbformat_minor": 5
}
